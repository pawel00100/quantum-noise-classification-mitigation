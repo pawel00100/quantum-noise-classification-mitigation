{
 "cells": [
  {
   "cell_type": "code",
   "execution_count": null,
   "metadata": {
    "collapsed": true
   },
   "outputs": [],
   "source": []
  },
  {
   "cell_type": "code",
   "execution_count": 5,
   "outputs": [],
   "source": [
    "def load_floats_from_file(filename):\n",
    "    floats = []\n",
    "    with open(filename, 'r') as file:\n",
    "        for line in file:\n",
    "            try:\n",
    "                value = float(line.strip())\n",
    "                floats.append(value)\n",
    "            except ValueError:\n",
    "                print(f\"Skipping invalid line: {line}\")\n",
    "    return floats\n"
   ],
   "metadata": {
    "collapsed": false,
    "ExecuteTime": {
     "end_time": "2023-05-22T19:35:10.182407400Z",
     "start_time": "2023-05-22T19:35:10.161682800Z"
    }
   }
  },
  {
   "cell_type": "code",
   "execution_count": 9,
   "outputs": [],
   "source": [
    "coherent_array = load_floats_from_file(\"coherent.txt\")\n",
    "stochastic_array = load_floats_from_file(\"stochastic.txt\")"
   ],
   "metadata": {
    "collapsed": false,
    "ExecuteTime": {
     "end_time": "2023-05-22T19:35:48.898702200Z",
     "start_time": "2023-05-22T19:35:48.873864600Z"
    }
   }
  },
  {
   "cell_type": "code",
   "execution_count": 14,
   "outputs": [],
   "source": [
    "array1 = coherent_array\n",
    "array2 = stochastic_array"
   ],
   "metadata": {
    "collapsed": false,
    "ExecuteTime": {
     "end_time": "2023-05-22T19:43:36.850435800Z",
     "start_time": "2023-05-22T19:43:36.810931200Z"
    }
   }
  },
  {
   "cell_type": "code",
   "execution_count": null,
   "outputs": [],
   "source": [
    "import numpy as np\n",
    "import tensorflow as tf\n",
    "from sklearn.model_selection import train_test_split\n",
    "\n",
    "# Define the window size\n",
    "window_size = 10\n",
    "\n",
    "# Create input windows for each array\n",
    "windows_array1 = [array1[i:i+window_size] for i in range(len(array1) - window_size + 1)]\n",
    "windows_array2 = [array2[i:i+window_size] for i in range(len(array2) - window_size + 1)]\n",
    "\n",
    "# Combine the windows and labels\n",
    "windows = np.concatenate([windows_array1, windows_array2])\n",
    "labels = np.concatenate([np.zeros(len(windows_array1)), np.ones(len(windows_array2))])\n",
    "\n",
    "# Split the data into train, validation, and test sets\n",
    "windows_train, windows_test, labels_train, labels_test = train_test_split(windows, labels, test_size=0.2, random_state=42)\n",
    "windows_train, windows_val, labels_train, labels_val = train_test_split(windows_train, labels_train, test_size=0.2, random_state=42)\n",
    "\n",
    "# Convert the windows and labels to TensorFlow tensors\n",
    "windows_train = tf.convert_to_tensor(windows_train, dtype=tf.float32)\n",
    "labels_train = tf.convert_to_tensor(labels_train, dtype=tf.float32)\n",
    "windows_val = tf.convert_to_tensor(windows_val, dtype=tf.float32)\n",
    "labels_val = tf.convert_to_tensor(labels_val, dtype=tf.float32)\n",
    "windows_test = tf.convert_to_tensor(windows_test, dtype=tf.float32)\n",
    "labels_test = tf.convert_to_tensor(labels_test, dtype=tf.float32)\n",
    "\n",
    "# Create a sequential model\n",
    "model = tf.keras.Sequential([\n",
    "    tf.keras.layers.Reshape((window_size, 1), input_shape=(window_size,)),\n",
    "    tf.keras.layers.Conv1D(32, 3, activation='relu'),\n",
    "    tf.keras.layers.MaxPooling1D(2),\n",
    "    tf.keras.layers.Flatten(),\n",
    "    tf.keras.layers.Dense(1, activation='sigmoid')\n",
    "])\n",
    "\n",
    "# Compile the model\n",
    "model.compile(optimizer='adam', loss='binary_crossentropy', metrics=['accuracy'])\n",
    "\n",
    "# Train the model with validation data\n",
    "model.fit(windows_train, labels_train, epochs=200, batch_size=32, validation_data=(windows_val, labels_val))\n",
    "\n",
    "# Evaluate the model on the test set\n",
    "test_loss, test_accuracy = model.evaluate(windows_test, labels_test)\n",
    "print(\"Test Loss:\", test_loss)\n",
    "print(\"Test Accuracy:\", test_accuracy)"
   ],
   "metadata": {
    "collapsed": false
   }
  },
  {
   "cell_type": "code",
   "execution_count": 19,
   "outputs": [
    {
     "name": "stdout",
     "output_type": "stream",
     "text": [
      "63/63 [==============================] - 0s 640us/step\n",
      "Test Accuracy: 0.6539809714571858\n"
     ]
    }
   ],
   "source": [
    "# Make predictions on the test data\n",
    "predictions = model.predict(windows_test)\n",
    "\n",
    "# Convert the predictions to binary labels\n",
    "predicted_labels = np.round(predictions).flatten()\n",
    "\n",
    "# Compare predicted labels with true labels\n",
    "accuracy = np.mean(predicted_labels == labels_test.numpy())\n",
    "\n",
    "# Print the accuracy\n",
    "print(\"Test Accuracy:\", accuracy)\n"
   ],
   "metadata": {
    "collapsed": false,
    "ExecuteTime": {
     "end_time": "2023-05-22T19:47:05.830383400Z",
     "start_time": "2023-05-22T19:47:05.604620400Z"
    }
   }
  },
  {
   "cell_type": "code",
   "execution_count": null,
   "outputs": [],
   "source": [],
   "metadata": {
    "collapsed": false
   }
  }
 ],
 "metadata": {
  "kernelspec": {
   "display_name": "Python 3",
   "language": "python",
   "name": "python3"
  },
  "language_info": {
   "codemirror_mode": {
    "name": "ipython",
    "version": 2
   },
   "file_extension": ".py",
   "mimetype": "text/x-python",
   "name": "python",
   "nbconvert_exporter": "python",
   "pygments_lexer": "ipython2",
   "version": "2.7.6"
  }
 },
 "nbformat": 4,
 "nbformat_minor": 0
}
