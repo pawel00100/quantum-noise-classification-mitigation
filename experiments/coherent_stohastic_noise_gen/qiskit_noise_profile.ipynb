{
 "cells": [
  {
   "cell_type": "code",
   "execution_count": 58,
   "outputs": [],
   "source": [
    "import random\n",
    "from math import pi\n",
    "\n",
    "from qiskit import QuantumCircuit, transpile\n",
    "from qiskit_aer import AerSimulator, QasmSimulator\n",
    "from qiskit.visualization import plot_histogram, plot_bloch_multivector\n",
    "from qiskit import QuantumCircuit, Aer\n",
    "from qiskit.quantum_info import Statevector\n",
    "from qiskit.visualization import plot_bloch_multivector\n",
    "from qiskit.providers.aer.noise.errors.standard_errors import pauli_error\n",
    "from qiskit.providers.aer.noise import NoiseModel"
   ],
   "metadata": {
    "collapsed": false,
    "ExecuteTime": {
     "end_time": "2023-05-22T15:55:56.945647100Z",
     "start_time": "2023-05-22T15:55:56.915688Z"
    }
   }
  },
  {
   "cell_type": "code",
   "execution_count": 168,
   "outputs": [],
   "source": [
    "def create_xgate_noise_model(p_error):\n",
    "    noise_model = NoiseModel()\n",
    "\n",
    "    # Define the error probabilities for X-gate noise\n",
    "    xgate_error = pauli_error([('X', p_error), ('I', 1 - p_error)])\n",
    "\n",
    "    # Add X-gate noise to all qubits\n",
    "    quantum_register_size = 1\n",
    "    for qubit in range(quantum_register_size):\n",
    "        noise_model.add_all_qubit_quantum_error(xgate_error, ['x'])\n",
    "        noise_model.add_all_qubit_quantum_error(xgate_error, ['rx'])\n",
    "\n",
    "    return noise_model\n",
    "\n",
    "def create_xyzgate_noise_model(p_error):\n",
    "    noise_model = NoiseModel()\n",
    "\n",
    "    # Define the error probabilities for X-gate noise\n",
    "    x_error = pauli_error([('X', p_error), ('I', 1 - p_error)])\n",
    "    y_error = pauli_error([('Y', p_error), ('I', 1 - p_error)])\n",
    "    z_error = pauli_error([('Z', p_error), ('I', 1 - p_error)])\n",
    "\n",
    "    # Add X-gate noise to all qubits\n",
    "    quantum_register_size = 1\n",
    "    for qubit in range(quantum_register_size):\n",
    "        noise_model.add_all_qubit_quantum_error(x_error, ['rx'])\n",
    "\n",
    "        # Add Y-gate noise to X-gates\n",
    "        noise_model.add_all_qubit_quantum_error(y_error, ['rx'], ['ry'])\n",
    "\n",
    "        # Add Z-gate noise to X-gates\n",
    "        noise_model.add_all_qubit_quantum_error(z_error, ['rx'], ['rz'])\n",
    "\n",
    "    return noise_model"
   ],
   "metadata": {
    "collapsed": false,
    "ExecuteTime": {
     "end_time": "2023-05-22T16:26:36.319145Z",
     "start_time": "2023-05-22T16:26:36.289179400Z"
    }
   }
  },
  {
   "cell_type": "code",
   "execution_count": 257,
   "metadata": {
    "collapsed": true,
    "ExecuteTime": {
     "end_time": "2023-05-22T17:42:40.517172900Z",
     "start_time": "2023-05-22T17:42:40.303323400Z"
    }
   },
   "outputs": [
    {
     "name": "stderr",
     "output_type": "stream",
     "text": [
      "WARNING: all-qubit error already exists for instruction \"rx\", composing with additional error.\n",
      "WARNING: all-qubit error already exists for instruction \"rx\", composing with additional error.\n"
     ]
    }
   ],
   "source": [
    "# Create an ideal noise model\n",
    "ideal_noise_model = NoiseModel()\n",
    "coherent_noise_model = create_xgate_noise_model(0.1)\n",
    "stochastic_noise_model = create_xyzgate_noise_model(0.05)\n",
    "\n",
    "# Apply the ideal noise model to the simulator\n",
    "backend = Aer.get_backend('qasm_simulator')\n",
    "# backend.set_options(noise_model=ideal_noise_model)\n",
    "backend.set_options(noise_model=coherent_noise_model)\n",
    "# backend.set_options(noise_model=stochastic_noise_model)\n"
   ]
  },
  {
   "cell_type": "code",
   "execution_count": 257,
   "outputs": [],
   "source": [],
   "metadata": {
    "collapsed": false,
    "ExecuteTime": {
     "end_time": "2023-05-22T17:42:41.484612900Z",
     "start_time": "2023-05-22T17:42:41.450944300Z"
    }
   }
  },
  {
   "cell_type": "code",
   "execution_count": 258,
   "outputs": [
    {
     "name": "stdout",
     "output_type": "stream",
     "text": [
      "\n",
      "Total count for 00 and 11 are: {'1': 3026, '0': 6974}\n"
     ]
    },
    {
     "data": {
      "text/plain": "<Figure size 519.897x200.667 with 1 Axes>",
      "image/png": "[encoded data removed]"
     },
     "execution_count": 258,
     "metadata": {},
     "output_type": "execute_result"
    }
   ],
   "source": [
    "circuit = QuantumCircuit(1, 1)\n",
    "\n",
    "# Add a H gate on qubit 0\n",
    "\n",
    "# random_state(circuit)\n",
    "# rx_with_stohastic(circuit)\n",
    "# circuit.rx(pi / 20, 0)\n",
    "circuit.rx(pi / 2, 0)\n",
    "circuit.rx(pi / 2, 0)\n",
    "circuit.rx(pi / 2, 0)\n",
    "circuit.rx(pi / 2, 0)\n",
    "# circuit.rx(pi / 2, 0)\n",
    "# circuit.rx(pi, 0)\n",
    "\n",
    "# Map the quantum measurement to the classical bits\n",
    "circuit.measure(0, 0)\n",
    "\n",
    "# Compile the circuit for the support instruction set (basis_gates)\n",
    "# and topology (coupling_map) of the backend\n",
    "compiled_circuit = transpile(circuit, backend, optimization_level=0)\n",
    "\n",
    "# Execute the circuit on the aer simulator\n",
    "job = backend.run(compiled_circuit, shots=10000)\n",
    "\n",
    "# Grab results from the job\n",
    "result = job.result()\n",
    "\n",
    "# Returns counts\n",
    "counts = result.get_counts(compiled_circuit)\n",
    "print(\"\\nTotal count for 00 and 11 are:\", counts)\n",
    "\n",
    "# Draw the circuit\n",
    "circuit.draw(\"mpl\")\n"
   ],
   "metadata": {
    "collapsed": false,
    "ExecuteTime": {
     "end_time": "2023-05-22T17:42:43.697194400Z",
     "start_time": "2023-05-22T17:42:43.293535300Z"
    }
   }
  },
  {
   "cell_type": "code",
   "execution_count": 255,
   "outputs": [
    {
     "data": {
      "text/plain": "{'1': 2885, '0': 7115}"
     },
     "execution_count": 255,
     "metadata": {},
     "output_type": "execute_result"
    }
   ],
   "source": [
    "counts"
   ],
   "metadata": {
    "collapsed": false,
    "ExecuteTime": {
     "end_time": "2023-05-22T16:29:09.468997400Z",
     "start_time": "2023-05-22T16:29:09.464276200Z"
    }
   }
  },
  {
   "cell_type": "code",
   "execution_count": 256,
   "outputs": [
    {
     "data": {
      "text/plain": "7115"
     },
     "execution_count": 256,
     "metadata": {},
     "output_type": "execute_result"
    }
   ],
   "source": [
    "counts['0']"
   ],
   "metadata": {
    "collapsed": false,
    "ExecuteTime": {
     "end_time": "2023-05-22T16:29:09.735846500Z",
     "start_time": "2023-05-22T16:29:09.698059400Z"
    }
   }
  },
  {
   "cell_type": "code",
   "execution_count": 256,
   "outputs": [],
   "source": [],
   "metadata": {
    "collapsed": false,
    "ExecuteTime": {
     "end_time": "2023-05-22T16:29:10.001871700Z",
     "start_time": "2023-05-22T16:29:09.978019100Z"
    }
   }
  },
  {
   "cell_type": "code",
   "execution_count": 262,
   "outputs": [],
   "source": [
    "def run_circuit(backend):\n",
    "    circuit = QuantumCircuit(1, 1)\n",
    "\n",
    "    # Add a H gate on qubit 0\n",
    "\n",
    "    # random_state(circuit)\n",
    "    # rx_with_stohastic(circuit)\n",
    "    # circuit.rx(pi / 20, 0)\n",
    "    circuit.rx(pi / 2, 0)\n",
    "    circuit.rx(pi / 2, 0)\n",
    "    circuit.rx(pi / 2, 0)\n",
    "    circuit.rx(pi / 2, 0)\n",
    "    # circuit.rx(pi / 2, 0)\n",
    "    # circuit.rx(pi, 0)\n",
    "\n",
    "    # Map the quantum measurement to the classical bits\n",
    "    circuit.measure(0, 0)\n",
    "\n",
    "    # Compile the circuit for the support instruction set (basis_gates)\n",
    "    # and topology (coupling_map) of the backend\n",
    "    compiled_circuit = transpile(circuit, backend, optimization_level=0)\n",
    "\n",
    "    # Execute the circuit on the aer simulator\n",
    "    job = backend.run(compiled_circuit, shots=1000)\n",
    "\n",
    "    # Grab results from the job\n",
    "    result = job.result()\n",
    "\n",
    "    # Returns counts\n",
    "    counts = result.get_counts(compiled_circuit)\n",
    "    # print(\"\\nTotal count for 00 and 11 are:\", counts)\n",
    "\n",
    "    # Draw the circuit\n",
    "    circuit.draw(\"mpl\")\n",
    "\n",
    "    return counts['0']/1000"
   ],
   "metadata": {
    "collapsed": false,
    "ExecuteTime": {
     "end_time": "2023-05-22T17:46:30.725351400Z",
     "start_time": "2023-05-22T17:46:30.701185300Z"
    }
   }
  },
  {
   "cell_type": "code",
   "execution_count": 270,
   "outputs": [],
   "source": [
    "backend = Aer.get_backend('qasm_simulator')\n",
    "backend.set_options(noise_model=coherent_noise_model)\n",
    "coherent_results = [run_circuit(backend) for _ in range(5000)]\n",
    "backend = Aer.get_backend('qasm_simulator')\n",
    "backend.set_options(noise_model=stochastic_noise_model)\n",
    "stochastic_results = [run_circuit(backend) for _ in range(5000)]"
   ],
   "metadata": {
    "collapsed": false,
    "ExecuteTime": {
     "end_time": "2023-05-22T19:01:02.682043100Z",
     "start_time": "2023-05-22T18:53:06.665572100Z"
    }
   }
  },
  {
   "cell_type": "code",
   "execution_count": 265,
   "outputs": [
    {
     "data": {
      "text/plain": "[0.68,\n 0.7,\n 0.69,\n 0.67,\n 0.68,\n 0.75,\n 0.75,\n 0.63,\n 0.73,\n 0.71,\n 0.63,\n 0.7,\n 0.67,\n 0.78,\n 0.72,\n 0.76,\n 0.78,\n 0.67,\n 0.75,\n 0.68,\n 0.69,\n 0.67,\n 0.73,\n 0.68,\n 0.73,\n 0.69,\n 0.67,\n 0.64,\n 0.68,\n 0.74,\n 0.66,\n 0.68,\n 0.75,\n 0.73,\n 0.66,\n 0.72,\n 0.75,\n 0.78,\n 0.73,\n 0.68,\n 0.75,\n 0.7,\n 0.77,\n 0.72,\n 0.75,\n 0.68,\n 0.69,\n 0.67,\n 0.74,\n 0.64,\n 0.75,\n 0.67,\n 0.69,\n 0.69,\n 0.73,\n 0.72,\n 0.72,\n 0.7,\n 0.74,\n 0.74,\n 0.76,\n 0.69,\n 0.69,\n 0.75,\n 0.71,\n 0.65,\n 0.76,\n 0.67,\n 0.68,\n 0.71,\n 0.65,\n 0.69,\n 0.75,\n 0.67,\n 0.7,\n 0.7,\n 0.8,\n 0.65,\n 0.71,\n 0.69,\n 0.7,\n 0.61,\n 0.65,\n 0.73,\n 0.65,\n 0.63,\n 0.74,\n 0.72,\n 0.7,\n 0.71,\n 0.68,\n 0.73,\n 0.71,\n 0.69,\n 0.62,\n 0.69,\n 0.73,\n 0.79,\n 0.55,\n 0.7,\n 0.68,\n 0.69,\n 0.75,\n 0.69,\n 0.75,\n 0.72,\n 0.76,\n 0.61,\n 0.74,\n 0.66,\n 0.77,\n 0.81,\n 0.66,\n 0.8,\n 0.71,\n 0.8,\n 0.64,\n 0.65,\n 0.7,\n 0.69,\n 0.7,\n 0.73,\n 0.75,\n 0.71,\n 0.73,\n 0.71,\n 0.7,\n 0.74,\n 0.67,\n 0.76,\n 0.73,\n 0.61,\n 0.72,\n 0.71,\n 0.73,\n 0.71,\n 0.71,\n 0.59,\n 0.64,\n 0.65,\n 0.74,\n 0.64,\n 0.76,\n 0.72,\n 0.71,\n 0.77,\n 0.67,\n 0.66,\n 0.73,\n 0.71,\n 0.71,\n 0.75,\n 0.78,\n 0.7,\n 0.7,\n 0.67,\n 0.69,\n 0.7,\n 0.78,\n 0.67,\n 0.66,\n 0.61,\n 0.81,\n 0.81,\n 0.74,\n 0.71,\n 0.75,\n 0.7,\n 0.73,\n 0.68,\n 0.75,\n 0.72,\n 0.69,\n 0.75,\n 0.75,\n 0.65,\n 0.69,\n 0.72,\n 0.76,\n 0.6,\n 0.76,\n 0.71,\n 0.78,\n 0.67,\n 0.67,\n 0.65,\n 0.76,\n 0.71,\n 0.69,\n 0.73,\n 0.7,\n 0.66,\n 0.63,\n 0.65,\n 0.72,\n 0.64,\n 0.72,\n 0.78,\n 0.77,\n 0.74,\n 0.72,\n 0.75,\n 0.72,\n 0.71,\n 0.81,\n 0.64,\n 0.66,\n 0.7,\n 0.69,\n 0.67,\n 0.68,\n 0.73,\n 0.76,\n 0.69,\n 0.81,\n 0.69,\n 0.78,\n 0.62,\n 0.76,\n 0.71,\n 0.66,\n 0.71,\n 0.77,\n 0.61,\n 0.69,\n 0.65,\n 0.81,\n 0.73,\n 0.72,\n 0.71,\n 0.76,\n 0.77,\n 0.72,\n 0.7,\n 0.68,\n 0.71,\n 0.69,\n 0.7,\n 0.77,\n 0.65,\n 0.78,\n 0.68,\n 0.65,\n 0.67,\n 0.69,\n 0.67,\n 0.73,\n 0.62,\n 0.74,\n 0.7,\n 0.72,\n 0.67,\n 0.75,\n 0.68,\n 0.69,\n 0.61,\n 0.79,\n 0.71,\n 0.71,\n 0.7,\n 0.69,\n 0.63,\n 0.71,\n 0.7,\n 0.67,\n 0.76,\n 0.64,\n 0.7,\n 0.59,\n 0.72,\n 0.69,\n 0.73,\n 0.77,\n 0.75,\n 0.73,\n 0.62,\n 0.72,\n 0.66,\n 0.75,\n 0.76,\n 0.69,\n 0.63,\n 0.73,\n 0.6,\n 0.63,\n 0.64,\n 0.69,\n 0.73,\n 0.7,\n 0.63,\n 0.68,\n 0.71,\n 0.78,\n 0.65,\n 0.73,\n 0.73,\n 0.7,\n 0.65,\n 0.65,\n 0.73,\n 0.74,\n 0.7,\n 0.67,\n 0.68,\n 0.63,\n 0.68,\n 0.62,\n 0.73,\n 0.64,\n 0.62,\n 0.66,\n 0.69,\n 0.6,\n 0.71,\n 0.62,\n 0.7,\n 0.63,\n 0.67,\n 0.64,\n 0.69,\n 0.74,\n 0.75,\n 0.65,\n 0.61,\n 0.7,\n 0.64,\n 0.77,\n 0.73,\n 0.69,\n 0.76,\n 0.71,\n 0.74,\n 0.68,\n 0.7,\n 0.65,\n 0.66,\n 0.68,\n 0.8,\n 0.74,\n 0.69,\n 0.63,\n 0.7,\n 0.66,\n 0.75,\n 0.82,\n 0.72,\n 0.74,\n 0.7,\n 0.7,\n 0.61,\n 0.71,\n 0.69,\n 0.78,\n 0.69,\n 0.65,\n 0.67,\n 0.69,\n 0.66,\n 0.72,\n 0.74,\n 0.66,\n 0.76,\n 0.64,\n 0.69,\n 0.72,\n 0.74,\n 0.79,\n 0.69,\n 0.74,\n 0.64,\n 0.74,\n 0.69,\n 0.73,\n 0.67,\n 0.7,\n 0.73,\n 0.64,\n 0.66,\n 0.78,\n 0.77,\n 0.66,\n 0.74,\n 0.69,\n 0.72,\n 0.7,\n 0.71,\n 0.66,\n 0.69,\n 0.74,\n 0.7,\n 0.76,\n 0.75,\n 0.69,\n 0.63,\n 0.7,\n 0.77,\n 0.75,\n 0.79,\n 0.64,\n 0.69,\n 0.71,\n 0.62,\n 0.7,\n 0.74,\n 0.69,\n 0.66,\n 0.72,\n 0.72,\n 0.64,\n 0.7,\n 0.72,\n 0.72,\n 0.71,\n 0.62,\n 0.74,\n 0.66,\n 0.68,\n 0.72,\n 0.77,\n 0.71,\n 0.67,\n 0.73,\n 0.66,\n 0.76,\n 0.75,\n 0.7,\n 0.66,\n 0.72,\n 0.67,\n 0.75,\n 0.72,\n 0.68,\n 0.69,\n 0.74,\n 0.7,\n 0.66,\n 0.68,\n 0.71,\n 0.72,\n 0.67,\n 0.6,\n 0.8,\n 0.72,\n 0.75,\n 0.69,\n 0.79,\n 0.7,\n 0.73,\n 0.77,\n 0.75,\n 0.68,\n 0.74,\n 0.77,\n 0.65,\n 0.65,\n 0.74,\n 0.77,\n 0.69,\n 0.66,\n 0.65,\n 0.72,\n 0.71,\n 0.68,\n 0.73,\n 0.64,\n 0.7,\n 0.65,\n 0.7,\n 0.67,\n 0.74,\n 0.75,\n 0.75,\n 0.66,\n 0.76,\n 0.75,\n 0.61,\n 0.62,\n 0.72,\n 0.75,\n 0.71,\n 0.62,\n 0.68,\n 0.68,\n 0.77,\n 0.76,\n 0.71,\n 0.78,\n 0.75,\n 0.73,\n 0.72,\n 0.71,\n 0.7,\n 0.62,\n 0.61,\n 0.68,\n 0.6,\n 0.78,\n 0.69,\n 0.67,\n 0.76,\n 0.67,\n 0.73,\n 0.63,\n 0.69,\n 0.7,\n 0.73,\n 0.65,\n 0.78,\n 0.74,\n 0.73,\n 0.73,\n 0.67,\n 0.76,\n 0.68,\n 0.67,\n 0.74,\n 0.66,\n 0.72,\n 0.66,\n 0.69,\n 0.69,\n 0.67,\n 0.61,\n 0.73,\n 0.69,\n 0.78,\n 0.66,\n 0.6,\n 0.66,\n 0.68,\n 0.78,\n 0.6,\n 0.67,\n 0.68,\n 0.7,\n 0.69,\n 0.69,\n 0.72,\n 0.59,\n 0.7,\n 0.73,\n 0.66,\n 0.59,\n 0.71,\n 0.68,\n 0.72,\n 0.76,\n 0.66,\n 0.68,\n 0.7,\n 0.68,\n 0.73,\n 0.72,\n 0.76,\n 0.71,\n 0.71,\n 0.77,\n 0.7,\n 0.66,\n 0.71,\n 0.66,\n 0.72,\n 0.72,\n 0.66,\n 0.75,\n 0.68,\n 0.79,\n 0.71,\n 0.69,\n 0.66,\n 0.67,\n 0.76,\n 0.69,\n 0.69,\n 0.74,\n 0.75,\n 0.66,\n 0.68,\n 0.66,\n 0.63,\n 0.67,\n 0.72,\n 0.67,\n 0.68,\n 0.74,\n 0.74,\n 0.69,\n 0.63,\n 0.72,\n 0.7,\n 0.68,\n 0.7,\n 0.73,\n 0.64,\n 0.59,\n 0.76,\n 0.65,\n 0.63,\n 0.68,\n 0.74,\n 0.66,\n 0.65,\n 0.71,\n 0.67,\n 0.63,\n 0.75,\n 0.66,\n 0.67,\n 0.69,\n 0.59,\n 0.76,\n 0.72,\n 0.67,\n 0.66,\n 0.73,\n 0.68,\n 0.75,\n 0.73,\n 0.67,\n 0.69,\n 0.72,\n 0.68,\n 0.68,\n 0.79,\n 0.76,\n 0.71,\n 0.69,\n 0.78,\n 0.77,\n 0.71,\n 0.68,\n 0.68,\n 0.74,\n 0.67,\n 0.67,\n 0.76,\n 0.62,\n 0.78,\n 0.73,\n 0.7,\n 0.7,\n 0.71,\n 0.76,\n 0.69,\n 0.74,\n 0.71,\n 0.66,\n 0.7,\n 0.75,\n 0.63,\n 0.7,\n 0.75,\n 0.67,\n 0.66,\n 0.71,\n 0.75,\n 0.63,\n 0.64,\n 0.64,\n 0.72,\n 0.62,\n 0.69,\n 0.69,\n 0.71,\n 0.75,\n 0.77,\n 0.65,\n 0.65,\n 0.67,\n 0.69,\n 0.67,\n 0.73,\n 0.69,\n 0.7,\n 0.67,\n 0.65,\n 0.71,\n 0.71,\n 0.7,\n 0.7,\n 0.69,\n 0.76,\n 0.72,\n 0.74,\n 0.65,\n 0.66,\n 0.72,\n 0.72,\n 0.73,\n 0.69,\n 0.69,\n 0.71,\n 0.72,\n 0.68,\n 0.75,\n 0.72,\n 0.7,\n 0.69,\n 0.72,\n 0.72,\n 0.67,\n 0.81,\n 0.72,\n 0.7,\n 0.69,\n 0.75,\n 0.72,\n 0.69,\n 0.69,\n 0.7,\n 0.68,\n 0.76,\n 0.77,\n 0.75,\n 0.67,\n 0.71,\n 0.64,\n 0.7,\n 0.73,\n 0.67,\n 0.77,\n 0.66,\n 0.78,\n 0.72,\n 0.67,\n 0.7,\n 0.76,\n 0.6,\n 0.77,\n 0.69,\n 0.74,\n 0.74,\n 0.72,\n 0.71,\n 0.62,\n 0.72,\n 0.73,\n 0.71,\n 0.59,\n 0.71,\n 0.75,\n 0.75,\n 0.69,\n 0.68,\n 0.8,\n 0.82,\n 0.75,\n 0.72,\n 0.73,\n 0.66,\n 0.71,\n 0.73,\n 0.66,\n 0.75,\n 0.7,\n 0.71,\n 0.78,\n 0.78,\n 0.74,\n 0.69,\n 0.63,\n 0.71,\n 0.72,\n 0.69,\n 0.68,\n 0.68,\n 0.74,\n 0.71,\n 0.68,\n 0.68,\n 0.69,\n 0.7,\n 0.73,\n 0.69,\n 0.7,\n 0.68,\n 0.76,\n 0.76,\n 0.71,\n 0.73,\n 0.7,\n 0.72,\n 0.74,\n 0.74,\n 0.68,\n 0.72,\n 0.76,\n 0.71,\n 0.69,\n 0.73,\n 0.77,\n 0.75,\n 0.7,\n 0.72,\n 0.68,\n 0.72,\n 0.61,\n 0.73,\n 0.65,\n 0.65,\n 0.61,\n 0.66,\n 0.7,\n 0.67,\n 0.64,\n 0.62,\n 0.7,\n 0.71,\n 0.79,\n 0.79,\n 0.76,\n 0.65,\n 0.67,\n 0.65,\n 0.7,\n 0.65,\n 0.73,\n 0.73,\n 0.66,\n 0.76,\n 0.75,\n 0.69,\n 0.78,\n 0.71,\n 0.7,\n 0.66,\n 0.7,\n 0.66,\n 0.77,\n 0.65,\n 0.78,\n 0.74,\n 0.73,\n 0.67,\n 0.65,\n 0.69,\n 0.71,\n 0.72,\n 0.73,\n 0.72,\n 0.71,\n 0.67,\n 0.7,\n 0.69,\n 0.64,\n 0.73,\n 0.71,\n 0.77,\n 0.73,\n 0.66,\n 0.76,\n 0.63,\n 0.71,\n 0.75,\n 0.66,\n 0.63,\n 0.64,\n 0.66,\n 0.7,\n 0.66,\n 0.73,\n 0.67,\n 0.67,\n 0.74,\n 0.75,\n 0.67,\n 0.74,\n 0.67,\n 0.73,\n 0.66,\n 0.7,\n 0.7,\n 0.71,\n 0.73,\n 0.76,\n 0.71,\n 0.72,\n 0.74,\n 0.64,\n 0.67,\n 0.71,\n 0.78,\n 0.77,\n 0.7,\n 0.65,\n 0.78,\n 0.72,\n 0.75,\n 0.72,\n 0.72,\n 0.68,\n 0.67,\n 0.71,\n 0.73,\n 0.73,\n 0.76,\n 0.72,\n 0.79,\n 0.75,\n 0.77,\n 0.71,\n 0.67,\n 0.72,\n 0.68,\n 0.81,\n 0.7,\n 0.75,\n 0.65,\n 0.73,\n 0.69,\n 0.76,\n 0.72,\n 0.66,\n 0.73,\n 0.7,\n 0.74,\n 0.71,\n 0.77,\n 0.77,\n 0.67,\n 0.79,\n 0.7,\n 0.61,\n 0.66,\n 0.69,\n 0.74,\n 0.74,\n 0.7,\n 0.73,\n 0.71,\n 0.73,\n 0.72,\n 0.69,\n 0.65,\n 0.67,\n 0.7,\n 0.72,\n 0.67,\n 0.78,\n 0.73,\n 0.76,\n 0.7,\n 0.69,\n 0.71,\n 0.73,\n 0.72,\n 0.67,\n 0.65,\n 0.67,\n 0.72,\n 0.71,\n 0.68,\n 0.72,\n 0.66,\n 0.7,\n 0.68,\n 0.69,\n 0.7,\n 0.85,\n 0.71,\n 0.7,\n 0.67,\n 0.74,\n 0.8,\n 0.7,\n 0.65,\n 0.7,\n 0.69,\n 0.76,\n 0.74,\n 0.72,\n 0.69,\n 0.78,\n 0.58,\n 0.71,\n 0.68,\n 0.71,\n 0.71,\n 0.76,\n 0.75,\n 0.72,\n 0.71,\n 0.68,\n 0.69,\n 0.78,\n 0.69,\n 0.73,\n 0.71,\n 0.68,\n 0.78,\n 0.65,\n 0.73,\n 0.72,\n 0.71,\n 0.71,\n 0.74,\n 0.74,\n 0.67,\n 0.77,\n 0.72]"
     },
     "execution_count": 265,
     "metadata": {},
     "output_type": "execute_result"
    }
   ],
   "source": [
    "coherent_results"
   ],
   "metadata": {
    "collapsed": false,
    "ExecuteTime": {
     "end_time": "2023-05-22T18:48:37.060941100Z",
     "start_time": "2023-05-22T18:48:36.522079700Z"
    }
   }
  },
  {
   "cell_type": "code",
   "execution_count": 271,
   "outputs": [],
   "source": [
    "import statistics\n",
    "\n",
    "def print_distribution_properties(data):\n",
    "    # Calculate properties\n",
    "    mean = statistics.mean(data)\n",
    "    median = statistics.median(data)\n",
    "    mode = statistics.mode(data)\n",
    "    variance = statistics.variance(data)\n",
    "    stdev = statistics.stdev(data)\n",
    "    min_value = min(data)\n",
    "    max_value = max(data)\n",
    "\n",
    "    # Print properties\n",
    "    print(\"Distribution Properties:\")\n",
    "    print(f\"Mean: {mean}\")\n",
    "    print(f\"Median: {median}\")\n",
    "    print(f\"Mode: {mode}\")\n",
    "    print(f\"Variance: {variance}\")\n",
    "    print(f\"Standard Deviation: {stdev}\")\n",
    "    print(f\"Minimum Value: {min_value}\")\n",
    "    print(f\"Maximum Value: {max_value}\")"
   ],
   "metadata": {
    "collapsed": false,
    "ExecuteTime": {
     "end_time": "2023-05-22T19:28:55.642296700Z",
     "start_time": "2023-05-22T19:28:55.632405300Z"
    }
   }
  },
  {
   "cell_type": "code",
   "execution_count": 272,
   "outputs": [
    {
     "name": "stdout",
     "output_type": "stream",
     "text": [
      "Distribution Properties:\n",
      "Mean: 0.703348\n",
      "Median: 0.7\n",
      "Mode: 0.71\n",
      "Variance: 0.002103331562312462\n",
      "Standard Deviation: 0.0458620928688657\n",
      "Minimum Value: 0.55\n",
      "Maximum Value: 0.86\n",
      "\n",
      "Distribution Properties:\n",
      "Mean: 0.714682\n",
      "Median: 0.72\n",
      "Mode: 0.71\n",
      "Variance: 0.0020187826325265053\n",
      "Standard Deviation: 0.0449308650320301\n",
      "Minimum Value: 0.54\n",
      "Maximum Value: 0.85\n"
     ]
    }
   ],
   "source": [
    "print_distribution_properties(coherent_results)\n",
    "print()\n",
    "print_distribution_properties(stochastic_results)"
   ],
   "metadata": {
    "collapsed": false,
    "ExecuteTime": {
     "end_time": "2023-05-22T19:28:58.329298600Z",
     "start_time": "2023-05-22T19:28:56.030052500Z"
    }
   }
  },
  {
   "cell_type": "code",
   "execution_count": 273,
   "outputs": [],
   "source": [
    "def write_numbers_to_file(numbers, filename):\n",
    "    with open(filename, 'w') as file:\n",
    "        for number in numbers:\n",
    "            file.write(str(number) + '\\n')\n",
    "write_numbers_to_file(coherent_results, \"coherent.txt\")\n",
    "write_numbers_to_file(stochastic_results, \"stochastic.txt\")"
   ],
   "metadata": {
    "collapsed": false,
    "ExecuteTime": {
     "end_time": "2023-05-22T19:30:21.874185400Z",
     "start_time": "2023-05-22T19:30:21.824154700Z"
    }
   }
  },
  {
   "cell_type": "code",
   "execution_count": null,
   "outputs": [],
   "source": [],
   "metadata": {
    "collapsed": false
   }
  }
 ],
 "metadata": {
  "kernelspec": {
   "display_name": "Python 3",
   "language": "python",
   "name": "python3"
  },
  "language_info": {
   "codemirror_mode": {
    "name": "ipython",
    "version": 2
   },
   "file_extension": ".py",
   "mimetype": "text/x-python",
   "name": "python",
   "nbconvert_exporter": "python",
   "pygments_lexer": "ipython2",
   "version": "2.7.6"
  }
 },
 "nbformat": 4,
 "nbformat_minor": 0
}
